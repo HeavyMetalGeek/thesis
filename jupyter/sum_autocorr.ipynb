{
 "cells": [
  {
   "cell_type": "code",
   "execution_count": 1,
   "metadata": {},
   "outputs": [],
   "source": [
    "import pandas as pd\n",
    "import numpy as np\n",
    "import matplotlib as mpl\n",
    "import matplotlib.pyplot as plt\n",
    "import os\n",
    "import sys\n",
    "from scipy.signal import welch\n",
    "\n",
    "%matplotlib inline"
   ]
  },
  {
   "cell_type": "markdown",
   "metadata": {},
   "source": [
    "# Probe Processing @ (1.0, 0.5, 0.5) #\n",
    "### Data acquisition and organization ###"
   ]
  },
  {
   "cell_type": "code",
   "execution_count": 12,
   "metadata": {},
   "outputs": [
    {
     "name": "stdout",
     "output_type": "stream",
     "text": [
      "[(0, 'ux'), (0, 'uy'), (0, 'uz')]\n"
     ]
    }
   ],
   "source": []
  },
  {
   "cell_type": "code",
   "execution_count": 14,
   "metadata": {},
   "outputs": [],
   "source": [
    "# Choose data set to process\n",
    "fine_resolution = False\n",
    "fname = ''\n",
    "if fine_resolution:\n",
    "    fname = './postProcessing/center_probe/290.5/U'\n",
    "else:\n",
    "    fname = './postProcessing_60/center_probe/50/U'\n",
    "\n",
    "# Read data to DataFrame\n",
    "u = pd.read_csv(fname,\n",
    "                delim_whitespace=True,\n",
    "                comment='#',\n",
    "                header=None,\n",
    "                index_col=0)\n",
    "\n",
    "# Create ux, uy, and uz MultiIndex columns for each probe point\n",
    "num_pts = int(u.shape[1]/3)\n",
    "mi_labels = []\n",
    "for pt in range(num_pts):\n",
    "    for comp in [\"ux\", \"uy\", \"uz\"]:\n",
    "        mi_labels.append(tuple([pt, comp]))\n",
    "cols = pd.MultiIndex.from_tuples(mi_labels)\n",
    "# Apply MultiIndex columns to DataFrame\n",
    "u.columns = cols\n",
    "# Modify DataFrame column names\n",
    "u.index.name = 'Time'\n",
    "u.columns.names = ['Probes','Component']\n",
    "\n",
    "# Create full turbulence variable and fluctuating part variable\n",
    "ueff = u\n",
    "up = ueff-ueff.mean()\n",
    "\n",
    "# Gather data from file header\n",
    "uheader = pd.read_csv(fname,\n",
    "                      delim_whitespace=True,\n",
    "                      nrows=int(u.shape[1]/3),\n",
    "                      names=[0,1,2,'x','y','z'],\n",
    "                      usecols=[2,'x','y','z'],\n",
    "                      index_col=0)\n",
    "uheader.index.name=u.columns.names[0]"
   ]
  },
  {
   "cell_type": "markdown",
   "metadata": {},
   "source": [
    "### Data processing ###"
   ]
  },
  {
   "cell_type": "code",
   "execution_count": 19,
   "metadata": {},
   "outputs": [
    {
     "name": "stdout",
     "output_type": "stream",
     "text": [
      "Time\n",
      "50.0003   -0.498469\n",
      "50.0005   -0.475869\n",
      "50.0008   -0.450569\n",
      "50.0010   -0.423469\n",
      "50.0013   -0.394569\n",
      "50.0015   -0.363269\n",
      "50.0018   -0.329569\n",
      "50.0020   -0.293269\n",
      "50.0023   -0.254469\n",
      "50.0025   -0.212969\n",
      "50.0028   -0.168969\n",
      "50.0030   -0.122469\n",
      "50.0033   -0.073369\n",
      "50.0035   -0.021969\n",
      "50.0038    0.031531\n",
      "50.0040    0.086731\n",
      "50.0043    0.143331\n",
      "50.0045    0.201131\n",
      "50.0048    0.259531\n",
      "50.0050    0.318231\n",
      "50.0053    0.376531\n",
      "50.0055    0.434131\n",
      "50.0058    0.490431\n",
      "50.0060    0.544731\n",
      "50.0063    0.596331\n",
      "50.0065    0.644731\n",
      "50.0068    0.689531\n",
      "50.0070    0.729931\n",
      "50.0073    0.765531\n",
      "50.0075    0.795731\n",
      "             ...   \n",
      "58.0028    0.415231\n",
      "58.0030    0.401931\n",
      "58.0033    0.389131\n",
      "58.0035    0.376931\n",
      "58.0038    0.365431\n",
      "58.0040    0.354631\n",
      "58.0043    0.344531\n",
      "58.0045    0.335131\n",
      "58.0048    0.326431\n",
      "58.0050    0.318531\n",
      "58.0053    0.311331\n",
      "58.0055    0.304631\n",
      "58.0058    0.298431\n",
      "58.0060    0.292731\n",
      "58.0063    0.287531\n",
      "58.0065    0.282731\n",
      "58.0068    0.278231\n",
      "58.0070    0.273931\n",
      "58.0073    0.269931\n",
      "58.0075    0.266031\n",
      "58.0078    0.262331\n",
      "58.0080    0.258631\n",
      "58.0083    0.254931\n",
      "58.0085    0.251331\n",
      "58.0088    0.247731\n",
      "58.0090    0.244231\n",
      "58.0093    0.240731\n",
      "58.0095    0.237231\n",
      "58.0098    0.233631\n",
      "58.0100    0.230131\n",
      "Name: ux, dtype: float64\n"
     ]
    }
   ],
   "source": [
    "data = up[0][\"ux\"][-800:]\n",
    "print(data)\n"
   ]
  },
  {
   "cell_type": "markdown",
   "metadata": {},
   "source": [
    "### Plotting and baseline curves ###"
   ]
  },
  {
   "cell_type": "code",
   "execution_count": 21,
   "metadata": {},
   "outputs": [
    {
     "data": {
      "image/png": "[encoded data removed]",
      "text/plain": [
       "<matplotlib.figure.Figure at 0x7f8e68d98668>"
      ]
     },
     "metadata": {},
     "output_type": "display_data"
    }
   ],
   "source": [
    "f = ndSu.index.values\n",
    "# Baseline curves\n",
    "ndSu['Kaimal u'] = 200.*f/(1+50.*f)**(5./3.)\n",
    "ndSu['Kaimal v'] = 15.*f/(1+9.5*f)**(5./3.)\n",
    "ndSu['Kaimal w'] = 3.36*f/(1+10.*f**(5./3.))\n",
    "# Plot configuration\n",
    "styles = ['ks','ro','gv','k','r','g']\n",
    "ax = ndSu.plot(loglog=True,style=styles)\n",
    "ax.set_xlabel('$nz/\\\\langle u\\\\rangle$')\n",
    "ax.set_ylabel('$nS_u/u_*^2$')\n",
    "ax.legend(['u','v','w'], loc='best')\n",
    "# Set axis limits\n",
    "ax.set_xlim(0.1,10)\n",
    "ax.set_ylim(0.001, 1)\n",
    "fig=plt.gcf()\n",
    "fig.tight_layout()\n",
    "if fine_resolution:\n",
    "    fig.savefig('fine_spectrum.png')\n",
    "else:\n",
    "    fig.savefig('coarse_spectrum.png')\n",
    "    \n",
    "plt.show()"
   ]
  },
  {
   "cell_type": "code",
   "execution_count": 24,
   "metadata": {},
   "outputs": [
    {
     "name": "stdout",
     "output_type": "stream",
     "text": [
      "uheader.z[0] = 0.5\n",
      "u mean = 10.514869104556803\n",
      "fine resolution? False\n"
     ]
    }
   ],
   "source": [
    "#DEBUG\n",
    "print(\"uheader.z[0] = {}\".format(uheader.z[0]))\n",
    "print(\"u mean = {}\".format(u[0, 'ux'].mean()))\n",
    "print(\"fine resolution? {}\".format(fine_resolution))"
   ]
  },
  {
   "cell_type": "code",
   "execution_count": null,
   "metadata": {},
   "outputs": [],
   "source": []
  }
 ],
 "metadata": {
  "kernelspec": {
   "display_name": "Python 3",
   "language": "python",
   "name": "python3"
  },
  "language_info": {
   "codemirror_mode": {
    "name": "ipython",
    "version": 3
   },
   "file_extension": ".py",
   "mimetype": "text/x-python",
   "name": "python",
   "nbconvert_exporter": "python",
   "pygments_lexer": "ipython3",
   "version": "3.5.2"
  }
 },
 "nbformat": 4,
 "nbformat_minor": 2
}
