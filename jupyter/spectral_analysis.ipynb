{
 "cells": [
  {
   "cell_type": "code",
   "execution_count": 51,
   "metadata": {},
   "outputs": [],
   "source": [
    "import pandas as pd\n",
    "import numpy as np\n",
    "import matplotlib as mpl\n",
    "import matplotlib.pyplot as plt\n",
    "import os\n",
    "import sys\n",
    "from scipy.signal import welch\n",
    "\n",
    "%matplotlib inline"
   ]
  },
  {
   "cell_type": "markdown",
   "metadata": {},
   "source": [
    "# Probe Processing @ (1.0, 0.5, 0.5) #\n",
    "### Data acquisition and organization ###"
   ]
  },
  {
   "cell_type": "code",
   "execution_count": 52,
   "metadata": {},
   "outputs": [],
   "source": [
    "# Choose data set to process\n",
    "fine_resolution = True\n",
    "fname = ''\n",
    "if fine_resolution:\n",
    "    fname = './postProcessing/center_probe/290.5/U'\n",
    "else:\n",
    "    fname = './postProcessing_60/center_probe/50/U'\n",
    "\n",
    "# Read data to DataFrame\n",
    "u = pd.read_csv(fname,delim_whitespace=True,comment='#',header=None,index_col=0)\n",
    "# Create ux, uy, and uz MultiIndex columns for each probe point\n",
    "cols = pd.MultiIndex.from_tuples([(x,y) for x in range(int(u.shape[1]/3)) for y in ['ux','uy','uz']])\n",
    "\n",
    "# Apply MultiIndex columns to DataFrame\n",
    "u.columns = cols\n",
    "# Modify DataFrame column names\n",
    "u.index.name = 'Time'\n",
    "u.columns.names = ['Probes','Component']\n",
    "\n",
    "# Create full turbulence variable and fluctuating part variable\n",
    "ueff = u\n",
    "up = ueff-ueff.mean()\n",
    "\n",
    "# Gather data from file header\n",
    "uheader = pd.read_csv(fname,\n",
    "                      delim_whitespace=True,\n",
    "                      nrows=int(u.shape[1]/3),\n",
    "                      names=[0,1,2,'x','y','z'],\n",
    "                      usecols=[2,'x','y','z'],\n",
    "                      index_col=0)\n",
    "uheader.index.name=u.columns.names[0]"
   ]
  },
  {
   "cell_type": "markdown",
   "metadata": {},
   "source": [
    "### Data processing ###"
   ]
  },
  {
   "cell_type": "code",
   "execution_count": 53,
   "metadata": {},
   "outputs": [],
   "source": [
    "# Initialize base variables\n",
    "dt = np.mean(np.diff(u.index))\n",
    "fs = 1/dt\n",
    "uStar = 0.41*10/np.log(1/0.00003)\n",
    "nfft=512\n",
    "# Estimate power spectral density using Welch's method\n",
    "# Default parameters not explicitly used:\n",
    "    # window='hanning'\n",
    "    # noverlap=None\n",
    "    # nfft=None (if None, defaults to nperseg)\n",
    "    # detrend='constant'\n",
    "    # return_onesided=True\n",
    "    # scaling='density'\n",
    "    # axis=-1\n",
    "# Returns \n",
    "    # f: array of sample frequencies\n",
    "    # Pxx: power spectral density or power spectrum of x\n",
    "n, Su = welch(up[0], fs, axis=0, nperseg=nfft)\n",
    "# Convert power spectral density into DataFrame indexed by sample frequencies\n",
    "Su = pd.DataFrame(Su, columns=up[0].columns, index=n)\n",
    "# Create DataFrame from function applied to all power spectral densities\n",
    "ndSu = Su.apply(lambda x: x*n/uStar**2)\n",
    "# Apply function to power spectral density DataFrame indexes and apply to new DataFrame\n",
    "ndSu.index = n*uheader.z[0]/u[0, 'ux'].mean()"
   ]
  },
  {
   "cell_type": "markdown",
   "metadata": {},
   "source": [
    "### Plotting and baseline curves ###"
   ]
  },
  {
   "cell_type": "code",
   "execution_count": 56,
   "metadata": {
    "scrolled": false
   },
   "outputs": [
    {
     "data": {
      "image/png": "[encoded data removed]",
      "text/plain": [
       "<matplotlib.figure.Figure at 0x7f31edff4978>"
      ]
     },
     "metadata": {},
     "output_type": "display_data"
    }
   ],
   "source": [
    "# Baseline Kaimal plots\n",
    "f = ndSu.index.values\n",
    "# Add more resolution to low frequency Kaimal plots\n",
    "low_freq = np.log(np.linspace(1,10,201))\n",
    "f = np.concatenate((low_freq, f[f > 2.3]), axis=0)\n",
    "kaimal = pd.DataFrame(index=f, columns=['u', 'v', 'w'])\n",
    "kaimal['u'] = 200. * f / (1 + 50.*f)**(5. / 3.)\n",
    "kaimal['v'] = 15. * f / (1 + 9.5*f)**(5. / 3.)\n",
    "kaimal['w'] = 3.36 * f / (1 + 10. * f**(5. / 3.))\n",
    "# Plot configuration\n",
    "styles = ['ks','ro','gv','k','r','g']\n",
    "ax = ndSu.plot(loglog=True,style=styles)\n",
    "kaimal.plot(ax=ax, loglog=True)\n",
    "#ax = kaimal.plot(loglog=True, style=styles)\n",
    "ax.set_xlabel('$nz/\\\\langle u\\\\rangle$')\n",
    "ax.set_ylabel('$nS_u/u_*^2$')\n",
    "ax.legend(['u','v','w'], loc='best')\n",
    "# Set axis limits\n",
    "ax.set_xlim(0.1,10)\n",
    "ax.set_ylim(0.001, 1)\n",
    "fig=plt.gcf()\n",
    "fig.tight_layout()\n",
    "if fine_resolution:\n",
    "    fig.savefig('fine_spectrum.png')\n",
    "else:\n",
    "    fig.savefig('coarse_spectrum.png')\n",
    "    \n",
    "plt.show()"
   ]
  },
  {
   "cell_type": "code",
   "execution_count": 55,
   "metadata": {},
   "outputs": [
    {
     "name": "stdout",
     "output_type": "stream",
     "text": [
      "uheader.z[0] = 0.5\n",
      "u mean = 10.498538718548385\n",
      "fine resolution? True\n"
     ]
    }
   ],
   "source": [
    "#DEBUG\n",
    "print(\"uheader.z[0] = {}\".format(uheader.z[0]))\n",
    "print(\"u mean = {}\".format(u[0, 'ux'].mean()))\n",
    "print(\"fine resolution? {}\".format(fine_resolution))"
   ]
  },
  {
   "cell_type": "code",
   "execution_count": null,
   "metadata": {},
   "outputs": [],
   "source": []
  }
 ],
 "metadata": {
  "kernelspec": {
   "display_name": "Python 3",
   "language": "python",
   "name": "python3"
  },
  "language_info": {
   "codemirror_mode": {
    "name": "ipython",
    "version": 3
   },
   "file_extension": ".py",
   "mimetype": "text/x-python",
   "name": "python",
   "nbconvert_exporter": "python",
   "pygments_lexer": "ipython3",
   "version": "3.5.2"
  }
 },
 "nbformat": 4,
 "nbformat_minor": 2
}
